{
  "nbformat": 4,
  "nbformat_minor": 0,
  "metadata": {
    "colab": {
      "name": "ColorPicker.ipynb",
      "provenance": [],
      "collapsed_sections": [],
      "authorship_tag": "ABX9TyNB5newq+VbgdWKBPAmXbMG",
      "include_colab_link": true
    },
    "kernelspec": {
      "name": "python3",
      "display_name": "Python 3"
    },
    "language_info": {
      "name": "python"
    }
  },
  "cells": [
    {
      "cell_type": "markdown",
      "metadata": {
        "id": "view-in-github",
        "colab_type": "text"
      },
      "source": [
        "<a href=\"https://colab.research.google.com/github/Sadiq98/ColorPicker/blob/main/ColorPicker.ipynb\" target=\"_parent\"><img src=\"https://colab.research.google.com/assets/colab-badge.svg\" alt=\"Open In Colab\"/></a>"
      ]
    },
    {
      "cell_type": "code",
      "metadata": {
        "id": "ZgR5a7COne31"
      },
      "source": [
        "#import libraries\n",
        "import cv2\n",
        "import numpy as np"
      ],
      "execution_count": 7,
      "outputs": []
    },
    {
      "cell_type": "code",
      "metadata": {
        "id": "WMVFiaZKnib4"
      },
      "source": [
        "#read image\n",
        "src = cv2.imread('/content/Low Poly Colorful.jpg', cv2.IMREAD_UNCHANGED)"
      ],
      "execution_count": 17,
      "outputs": []
    },
    {
      "cell_type": "code",
      "metadata": {
        "id": "bhSzN6ABnifW"
      },
      "source": [
        "# extract red channel\n",
        "red_channel = src[:,:,2]"
      ],
      "execution_count": 18,
      "outputs": []
    },
    {
      "cell_type": "code",
      "metadata": {
        "id": "_V2DS-92niiY"
      },
      "source": [
        "# create empty image with same shape as that of src image\n",
        "red_img = np.zeros(src.shape)"
      ],
      "execution_count": 19,
      "outputs": []
    },
    {
      "cell_type": "code",
      "metadata": {
        "id": "4spGmQw6nilW"
      },
      "source": [
        "#assign the red channel of src to empty image\n",
        "red_img[:,:,2] = red_channel"
      ],
      "execution_count": 20,
      "outputs": []
    },
    {
      "cell_type": "code",
      "metadata": {
        "colab": {
          "base_uri": "https://localhost:8080/"
        },
        "id": "YX6k5T8Jniqm",
        "outputId": "99b40693-e246-42df-8a87-0348133f3154"
      },
      "source": [
        "#save image\n",
        "cv2.imwrite('/content/Low Poly Red.jpg',red_img)"
      ],
      "execution_count": 21,
      "outputs": [
        {
          "output_type": "execute_result",
          "data": {
            "text/plain": [
              "True"
            ]
          },
          "metadata": {
            "tags": []
          },
          "execution_count": 21
        }
      ]
    }
  ]
}